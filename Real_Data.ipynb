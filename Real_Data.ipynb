{
 "metadata": {
  "name": ""
 },
 "nbformat": 3,
 "nbformat_minor": 0,
 "worksheets": [
  {
   "cells": [
    {
     "cell_type": "code",
     "collapsed": false,
     "input": [
      "# special IPython command to prepare the notebook for matplotlib\n",
      "%matplotlib inline \n",
      "import requests\n",
      "from BeautifulSoup import BeautifulSoup\n",
      "from IPython.display import HTML\n",
      "from pattern import web\n",
      "#import fnmatch\n",
      "from collections import defaultdict\n",
      "import pandas as pd\n",
      "import matplotlib.pyplot as plt\n",
      "from math import *\n",
      "\n",
      "from collections import defaultdict\n",
      "import json\n",
      "\n",
      "import numpy as np\n",
      "import scipy as sp\n",
      "\n",
      "from matplotlib import rcParams\n",
      "import matplotlib.cm as cm\n",
      "import matplotlib as mpl\n",
      "\n",
      "# set some nicer defaults for matplotlib\n",
      "from matplotlib import rcParams\n",
      "import matplotlib.cm as cm\n",
      "import matplotlib as mpl\n",
      "\n",
      "#colorbrewer2 Dark2 qualitative color table\n",
      "dark2_colors = [(0.10588235294117647, 0.6196078431372549, 0.4666666666666667),\n",
      "                (0.8509803921568627, 0.37254901960784315, 0.00784313725490196),\n",
      "                (0.4588235294117647, 0.4392156862745098, 0.7019607843137254),\n",
      "                (0.9058823529411765, 0.1607843137254902, 0.5411764705882353),\n",
      "                (0.4, 0.6509803921568628, 0.11764705882352941),\n",
      "                (0.9019607843137255, 0.6705882352941176, 0.00784313725490196),\n",
      "                (0.6509803921568628, 0.4627450980392157, 0.11372549019607843)]\n",
      "\n",
      "rcParams['figure.figsize'] = (10, 6)\n",
      "rcParams['figure.dpi'] = 150\n",
      "rcParams['axes.color_cycle'] = dark2_colors\n",
      "rcParams['lines.linewidth'] = 2\n",
      "rcParams['axes.facecolor'] = 'white'\n",
      "rcParams['font.size'] = 14\n",
      "rcParams['patch.edgecolor'] = 'white'\n",
      "rcParams['patch.facecolor'] = dark2_colors[0]\n",
      "rcParams['font.family'] = 'StixGeneral'\n",
      "\n",
      "\n",
      "def remove_border(axes=None, top=False, right=False, left=True, bottom=True):\n",
      "    \"\"\"\n",
      "    Minimize chartjunk by stripping out unnecesasry plot borders and axis ticks\n",
      "    \n",
      "    The top/right/left/bottom keywords toggle whether the corresponding plot border is drawn\n",
      "    \"\"\"\n",
      "    ax = axes or plt.gca()\n",
      "    ax.spines['top'].set_visible(top)\n",
      "    ax.spines['right'].set_visible(right)\n",
      "    ax.spines['left'].set_visible(left)\n",
      "    ax.spines['bottom'].set_visible(bottom)\n",
      "    \n",
      "    #turn off all ticks\n",
      "    ax.yaxis.set_ticks_position('none')\n",
      "    ax.xaxis.set_ticks_position('none')\n",
      "    \n",
      "    #now re-enable visibles\n",
      "    if top:\n",
      "        ax.xaxis.tick_top()\n",
      "    if bottom:\n",
      "        ax.xaxis.tick_bottom()\n",
      "    if left:\n",
      "        ax.yaxis.tick_left()\n",
      "    if right:\n",
      "        ax.yaxis.tick_right()\n",
      "        \n",
      "pd.set_option('display.width', 500)\n",
      "pd.set_option('display.max_columns', 100)\n",
      "from scipy.optimize import curve_fit"
     ],
     "language": "python",
     "metadata": {},
     "outputs": [],
     "prompt_number": 105
    },
    {
     "cell_type": "code",
     "collapsed": false,
     "input": [
      "#get first page\n",
      "url = 'http://www.cambridgema.gov/Assess/PropertyDatabase'\n",
      "r = requests.get(url)\n",
      "dom = BeautifulSoup(r.text)\n",
      "cookies = r.cookies"
     ],
     "language": "python",
     "metadata": {},
     "outputs": [],
     "prompt_number": 106
    },
    {
     "cell_type": "code",
     "collapsed": false,
     "input": [
      "def get_form(dom):\n",
      "    \n",
      "    form = dom.find('form')\n",
      "    inputs = form.findAll('input')\n",
      "    #build a dictionary that maps input name -> value\n",
      "    form_dict = {i['name']: i['value'] for i in inputs if i.get('value', False)}\n",
      "\n",
      "    return form_dict\n",
      "\n",
      "form_dict = get_form(dom)\n",
      "#manually set the field we want to search commercial listings\n",
      "form_dict['ctl00$Primary$PropertyDBSearch$PropertyType'] = 'rdoPropertyType_Commercial'"
     ],
     "language": "python",
     "metadata": {},
     "outputs": [],
     "prompt_number": 107
    },
    {
     "cell_type": "code",
     "collapsed": false,
     "input": [
      "r = requests.post(url, data=form_dict, cookies=cookies)\n",
      "r # make sure response is 200"
     ],
     "language": "python",
     "metadata": {},
     "outputs": [
      {
       "metadata": {},
       "output_type": "pyout",
       "prompt_number": 108,
       "text": [
        "<Response [200]>"
       ]
      }
     ],
     "prompt_number": 108
    },
    {
     "cell_type": "code",
     "collapsed": false,
     "input": [
      "''' This function takes as input the page number (for example 'Page$1' for page 1) and the response variable.\n",
      "        and returns the next page\n",
      "'''\n",
      "def next_page(page, r):\n",
      "        dom = BeautifulSoup(r.text)\n",
      "        cookies.update(r.cookies)\n",
      "        \n",
      "        form_dict2 = get_form(dom)\n",
      "        form_dict2['__EVENTTARGET'] = 'ctl00$Primary$PropertyDBSearch$gvSearchResults'\n",
      "        form_dict2['__EVENTARGUMENT'] = page  # hopefully you can repeat with Page$3, etc\n",
      "        form_dict2['ctl00$txtSearch'] = 'enter search terms'\n",
      "        form_dict2 = {k: v for k, v in form_dict2.items() if k in \n",
      "                      ['__EVENTTARGET', '__EVENTARGUMENT', '__VIEWSTATE', '__EVENTVALIDATION', 'ctl00$txtSearch']}\n",
      "        \n",
      "        r2 = requests.post(url, data=form_dict2, cookies=cookies)\n",
      "        return r2"
     ],
     "language": "python",
     "metadata": {},
     "outputs": [],
     "prompt_number": 109
    },
    {
     "cell_type": "code",
     "collapsed": false,
     "input": [
      "\n",
      "\n",
      "def get_data(r):\n",
      "    # set lists to store parameters we care about\n",
      "    house_number2 =[]\n",
      "    street_number2 = []\n",
      "    types2 = []\n",
      "    cost2 = []\n",
      "    assessing_district2 = []\n",
      "    \n",
      "    temp_res = r\n",
      "    for counter in xrange(2,118):\n",
      "        #first scrape that page:\n",
      "        page = 'Page$'+ str(counter)\n",
      "        response = next_page(page,temp_res)\n",
      "        temp = web.Element(response.text)\n",
      "        a = temp.by_id(\"gvSearchResults\")\n",
      "    \n",
      "        for d in a('tr')[1:]:\n",
      "        \n",
      "            if len(d) == 9:\n",
      "                # Property house number\"\n",
      "                house_number2.append(str(d[1].content))\n",
      "                \n",
      "                # street name of property\n",
      "                street_number2.append(str(d[2][0].content))\n",
      "                \n",
      "                # Property type\n",
      "                types2.append(str(d[4].content))\n",
      "                \n",
      "                # Property cost\n",
      "                t = d[5].content\n",
      "                t2 = t.strip('$')\n",
      "                t3 =t2.replace(\",\", \"\")\n",
      "                cost2.append(float(t3))\n",
      "                \n",
      "                # Property's assessing district\"\n",
      "                assessing_district2.append(str(d[6].content))\n",
      "        \n",
      "        \n",
      "        \n",
      "        # then update\n",
      "        if counter%10 ==1:\n",
      "            print \"************* update cookies\", page\n",
      "            temp_res = response\n",
      "            \n",
      "    return [house_number2, street_number2, types2, cost2, assessing_district2]\n",
      "\n",
      "#use function\n",
      "[house_number2, street_number2, types2, cost2, assessing_district2] = get_data(r)"
     ],
     "language": "python",
     "metadata": {},
     "outputs": [
      {
       "output_type": "stream",
       "stream": "stdout",
       "text": [
        "************* update cookies Page$11\n",
        "************* update cookies"
       ]
      },
      {
       "output_type": "stream",
       "stream": "stdout",
       "text": [
        " Page$21\n",
        "************* update cookies"
       ]
      },
      {
       "output_type": "stream",
       "stream": "stdout",
       "text": [
        " Page$31\n",
        "************* update cookies"
       ]
      },
      {
       "output_type": "stream",
       "stream": "stdout",
       "text": [
        " Page$41\n",
        "************* update cookies"
       ]
      },
      {
       "output_type": "stream",
       "stream": "stdout",
       "text": [
        " Page$51\n",
        "************* update cookies"
       ]
      },
      {
       "output_type": "stream",
       "stream": "stdout",
       "text": [
        " Page$61\n",
        "************* update cookies"
       ]
      },
      {
       "output_type": "stream",
       "stream": "stdout",
       "text": [
        " Page$71\n",
        "************* update cookies"
       ]
      },
      {
       "output_type": "stream",
       "stream": "stdout",
       "text": [
        " Page$81\n",
        "************* update cookies"
       ]
      },
      {
       "output_type": "stream",
       "stream": "stdout",
       "text": [
        " Page$91\n",
        "************* update cookies"
       ]
      },
      {
       "output_type": "stream",
       "stream": "stdout",
       "text": [
        " Page$101\n",
        "************* update cookies"
       ]
      },
      {
       "output_type": "stream",
       "stream": "stdout",
       "text": [
        " Page$111\n"
       ]
      }
     ],
     "prompt_number": 112
    },
    {
     "cell_type": "code",
     "collapsed": false,
     "input": [
      "#load information into dataframe\n",
      "# we end up not using the data frame for much of our final analysis, but it is useful to have for exploratory research.\n",
      "d = defaultdict(list)\n",
      "d['house_number'] = house_number2\n",
      "d['street_number'] = street_number2 \n",
      "d['types'] = types2\n",
      "d['cost'] = cost2 \n",
      "d['assessing_district'] = assessing_district2\n",
      "result = pd.DataFrame(d)"
     ],
     "language": "python",
     "metadata": {},
     "outputs": [],
     "prompt_number": 114
    },
    {
     "cell_type": "code",
     "collapsed": false,
     "input": [
      "# plot distribution\n",
      "h = plt.hist(cost2,bins = 100)\n",
      "plt.title(\"Histogram of Commercial Property in Cambridge\")\n",
      "plt.show()"
     ],
     "language": "python",
     "metadata": {},
     "outputs": [
      {
       "metadata": {},
       "output_type": "display_data",
       "png": "[encoded data removed]",
       "text": [
        "<matplotlib.figure.Figure at 0x10959f310>"
       ]
      }
     ],
     "prompt_number": 11
    },
    {
     "cell_type": "code",
     "collapsed": false,
     "input": [
      "\n",
      "'''create with log of histogram values to show exponential nature of distribution.'''\n",
      "x = h[1]\n",
      "y = np.log(h[0])\n",
      "\n",
      "y2 = []\n",
      "x2 = []\n",
      "\n",
      "# use only non zero values for conversion (so that we don't get -inf).\n",
      "for i in xrange(len(y)):\n",
      "    if y[i]>=0:\n",
      "        y2.append(y[i])\n",
      "        x2.append(x[i])\n",
      "   \n",
      "\n",
      "#find best fit (without outliers)\n",
      "z1 = np.polyfit(x2[:-3], y2[:-3], 1)\n",
      "f1 = np.poly1d(z1)\n",
      "\n",
      "x_new1 = np.linspace(x2[0], x2[-1], 50)\n",
      "y_new1 = f1(x_new1)\n",
      "\n",
      "plt.plot(x2,y2,'o', x_new1, y_new1)\n",
      "plt.ylim(-1,10)\n",
      "plt.title('Distribution of Property Values \\n log scale')\n",
      "plt.xlabel(\"Property Values (in dollars)\")\n",
      "plt.ylabel(\"Log of the frequency of value\")\n",
      "plt.show()\n",
      "\n",
      "print \"Coefficients of best fit: \", z1\n"
     ],
     "language": "python",
     "metadata": {},
     "outputs": [
      {
       "metadata": {},
       "output_type": "display_data",
       "png": "[encoded data removed]",
       "text": [
        "<matplotlib.figure.Figure at 0x108909ed0>"
       ]
      },
      {
       "output_type": "stream",
       "stream": "stdout",
       "text": [
        "adjusted z [ -2.06965496e-08   4.30527370e+00]\n"
       ]
      }
     ],
     "prompt_number": 115
    },
    {
     "cell_type": "code",
     "collapsed": false,
     "input": [
      "#sort values in descending order of importance\n",
      "sorted_cost = sorted(cost2)[::-1]"
     ],
     "language": "python",
     "metadata": {},
     "outputs": [],
     "prompt_number": 18
    },
    {
     "cell_type": "code",
     "collapsed": false,
     "input": [
      "''' useful short functions'''\n",
      "\n",
      "# error function\n",
      "def error_func(a,b):\n",
      "    if abs(a-b)<10**(-14):\n",
      "        return True\n",
      "    else:\n",
      "        return False\n",
      "\n",
      "# function to calculate expected value given values and defenses and conversion value alpha\n",
      "def expected_v_alpha(v, d, alpha):\n",
      "    return v*exp(-alpha*d)\n",
      "\n",
      "expected_v_alpha = np.vectorize(expected_v_alpha)"
     ],
     "language": "python",
     "metadata": {},
     "outputs": [],
     "prompt_number": 78
    },
    {
     "cell_type": "code",
     "collapsed": false,
     "input": [
      "# *** Note, this function assumes that V's are ordered!!!!!\n",
      "\"\"\"\n",
      "Function\n",
      "--------\n",
      "\n",
      "Push_down_alpha\n",
      "\n",
      "Parameters\n",
      "----------\n",
      "\n",
      "Vec:\n",
      "    Vector of current target values (target probabilities?).\n",
      "\n",
      "Budget: float\n",
      "    the defense budget we have at our disposal. \n",
      "    \n",
      "alpha:  0<float<=1\n",
      "    Conversion rate between defense units and utility units. \n",
      "    \n",
      "Returns\n",
      "--------\n",
      "\n",
      "A vector containg the defense that should be applied to each target.\n",
      "\n",
      "\"\"\"\n",
      "def Push_down_alpha(Budget,Vec, alpha):\n",
      "    Def = np.zeros(len(Vec))\n",
      "    Def_temp = np.zeros(len(Vec))\n",
      "    \n",
      "    # cycling through limiting values of targets.\n",
      "    for v in xrange(1,len(Vec)): \n",
      "        \n",
      "        #cycling all targets with higher values than v.\n",
      "        for i in xrange(v):\n",
      "\n",
      "            Def_temp[i] = (1/alpha)*np.log(Vec[i]/Vec[v])\n",
      "            \n",
      "        # Case A: if overbudget, use all budget to lower as much as possible\n",
      "        if np.sum(Def_temp) > Budget:                \n",
      "            a1 = np.ones((1,v)) #v and not v-1 because of 0 indexing\n",
      "            a2 = np.zeros((v-1,v))\n",
      "            b = np.zeros(v)\n",
      "            b[0] = Budget\n",
      "            \n",
      "            for stuff in xrange(v-1):\n",
      "                a2[stuff,0]=1\n",
      "                a2[stuff,stuff+1] = -1\n",
      "                b[stuff+1] = np.log(Vec[0]) - np.log(Vec[stuff+1])\n",
      "\n",
      "            a = np.concatenate((a1, a2), axis=0)\n",
      "            x = np.linalg.solve(a, b)\n",
      "            #print \"=============\",np.sum(x)\n",
      "            add = np.zeros(len(Vec)-len(x))\n",
      "            return np.concatenate((x,add), axis=0)\n",
      "        \n",
      "        # Case B: if exactly on budget, return array of defenses\n",
      "        elif np.sum(Def_temp) == Budget: \n",
      "            return Def_temp\n",
      "        \n",
      "        # Case C: if under budget, continue incrementing defense vector.\n",
      "        else:                       \n",
      "            Def = np.copy(Def_temp)\n",
      "    \n",
      "    # Case D: reaches all targets and is able to bring down all of them.\n",
      "    a1 = np.ones((1,len(Vec))) #v and not v-1 because of 0 indexing\n",
      "    a2 = np.zeros((len(Vec)-1,len(Vec)))\n",
      "    b = np.zeros(len(Vec))\n",
      "    b[0] = Budget\n",
      "    \n",
      "    for stuff in xrange(len(Vec)-1):\n",
      "        a2[stuff,0]=1\n",
      "        a2[stuff,stuff+1] = -1\n",
      "        b[stuff+1] = np.log(Vec[0]) - np.log(Vec[stuff+1])\n",
      "\n",
      "    a= np.concatenate((a1, a2), axis=0)\n",
      "    Def = np.linalg.solve(a, b)\n",
      "\n",
      "    return Def"
     ],
     "language": "python",
     "metadata": {},
     "outputs": [],
     "prompt_number": 79
    },
    {
     "cell_type": "code",
     "collapsed": false,
     "input": [
      "\"\"\"\n",
      "Function\n",
      "--------\n",
      "\n",
      "Losses_alpha\n",
      "\n",
      "Parameters\n",
      "----------\n",
      "Budget_low: int\n",
      "    Lower bound for Budget\n",
      "\n",
      "Budget_high: int\n",
      "    Upper Bound for Budget\n",
      "\n",
      "granularity: int\n",
      "    granularity for budget analysis\n",
      "\n",
      "V: Vector of utility values\n",
      "\n",
      "alpha:  0<float<=1\n",
      "    Conversion rate between defense units and utility units. \n",
      "\n",
      "Returns\n",
      "--------\n",
      "Reasonable Budget\n",
      "\n",
      "\"\"\"\n",
      "def Losses_alpha(Budget_low, Budget_high, granularity, V, alpha):\n",
      "    losses = []\n",
      "    Var_budget = np.linspace(Budget_low, Budget_high, num = granularity)\n",
      "\n",
      "    \n",
      "    for b in Var_budget:\n",
      "        \n",
      "        Defense_accurate = Push_down_alpha(b,V, alpha)\n",
      "        \n",
      "        #expected values with perfect information\n",
      "        expv_perfect_info  = expected_v_alpha(V, Defense_accurate, alpha)\n",
      "        \n",
      "        # pick highest target (we assume that's what the terrorist will choose)\n",
      "        loss = expv_perfect_info[0]\n",
      "        losses.append(loss)\n",
      "    \n",
      "    plt.plot(Var_budget, losses) #plt.plot(x, y)\n",
      "    plt.plot(Var_budget,Var_budget)\n",
      "    plt.xlabel(\"Defense Budget\")\n",
      "    plt.ylabel(\"Losses in expected value\")\n",
      "    plt.xlim(Var_budget[0],Var_budget[-1])\n",
      "    plt.title(\"Plot of losses with varying budget for real data\")\n",
      "    \n",
      "    for element in xrange(len(losses)):\n",
      "        if losses[element] - Var_budget[element] <0:\n",
      "            flips = ((Var_budget[element]+Var_budget[element-1]))/2 \n",
      "            #print \"Budget we should spend\", flips\n",
      "            return flips\n",
      "    \n",
      "    return False #only reaches this statement if is reasonable budget exceeds budget constraint\n"
     ],
     "language": "python",
     "metadata": {},
     "outputs": [],
     "prompt_number": 80
    },
    {
     "cell_type": "code",
     "collapsed": false,
     "input": [
      "#Set Parameters for Analysis\n",
      "g = 11 #granularity\n",
      "S = 4500 #stepsize\n",
      "m_n = 5e4 #minimum\n",
      "m_x = m_n+S*(g-1) #calculate maximun\n",
      "\n",
      "for alpha in np.linspace(0.05,0.09,5):\n",
      "    print \"****************\", alpha, \"****************\"\n",
      "    Reasonable_Budget  = Losses_alpha(Budget_low = m_n, Budget_high = m_x, granularity = g , V = sorted_cost, alpha = alpha)\n",
      "    defenses = Push_down_alpha(Reasonable_Budget, sorted_cost, alpha)\n",
      "    print \"Reasonable Budget\",  Reasonable_Budget\n",
      "    print \"most we spend on defense\", defenses[0]\n",
      "    e = expected_v_alpha(sorted_cost, defenses, alpha)\n",
      "    print \"highest remaining expected values = \", e[0]\n",
      "    print \"number of targets at least partially protected\", np.sum([1 for i, e in enumerate(defenses) if e >0])"
     ],
     "language": "python",
     "metadata": {},
     "outputs": [
      {
       "output_type": "stream",
       "stream": "stdout",
       "text": [
        "1540000\n",
        "**************** 0.01 ****************\n",
        "sign matters"
       ]
      },
      {
       "output_type": "stream",
       "stream": "stdout",
       "text": [
        " 265158.614539 1450000.0\n",
        "sign matters 232051.192641 1454500.0\n",
        "sign matters 194944.354174 1459000.0\n",
        "sign matters 158467.918112 1463500.0\n",
        "sign matters 122609.696583 1468000.0\n",
        "sign matters 87357.7373978 1472500.0\n",
        "sign matters 52700.3194168 1477000.0\n",
        "sign matters 18625.9481073 1481500.0\n",
        "sign matters -14876.6488437 1486000.0\n",
        "sanity check"
       ]
      },
      {
       "output_type": "stream",
       "stream": "stdout",
       "text": [
        " 1483750.0  =  1483750.0\n",
        "most we spend on defense 650.374538736\n",
        "highest remaining expected values =  1485553.8738\n",
        "sanity check, should be 2308 2308\n",
        "number of targets protected 2305\n",
        "**************** 0.02 ****************\n",
        "sign matters"
       ]
      },
      {
       "output_type": "stream",
       "stream": "stdout",
       "text": [
        " -1446969.28262 1450000.0\n",
        "sanity check"
       ]
      },
      {
       "output_type": "stream",
       "stream": "stdout",
       "text": [
        " 1495000.0  =  1495000.0\n",
        "most we spend on defense 654.421850148\n",
        "highest remaining expected values =  2052.07473064\n",
        "sanity check, should be 2308 2308\n",
        "number of targets protected 2308\n"
       ]
      },
      {
       "metadata": {},
       "output_type": "display_data",
       "png": "[encoded data removed]",
       "text": [
        "<matplotlib.figure.Figure at 0x107e849d0>"
       ]
      }
     ],
     "prompt_number": 101
    },
    {
     "cell_type": "code",
     "collapsed": false,
     "input": [
      "np.linspace(0.05,0.09,5)"
     ],
     "language": "python",
     "metadata": {},
     "outputs": [
      {
       "metadata": {},
       "output_type": "pyout",
       "prompt_number": 117,
       "text": [
        "array([ 0.05,  0.06,  0.07,  0.08,  0.09])"
       ]
      }
     ],
     "prompt_number": 117
    },
    {
     "cell_type": "code",
     "collapsed": false,
     "input": [],
     "language": "python",
     "metadata": {},
     "outputs": [],
     "prompt_number": 115
    }
   ],
   "metadata": {}
  }
 ]
}